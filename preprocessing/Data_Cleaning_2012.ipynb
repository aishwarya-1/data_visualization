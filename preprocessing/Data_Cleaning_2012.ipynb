{
 "cells": [
  {
   "cell_type": "markdown",
   "metadata": {},
   "source": [
    "##### IMPORT PACKAGES, ASSIGN DATAFRAME"
   ]
  },
  {
   "cell_type": "code",
   "execution_count": 1,
   "metadata": {},
   "outputs": [],
   "source": [
    "%matplotlib inline\n",
    "import numpy as np\n",
    "import matplotlib.pyplot as plt\n",
    "import seaborn as sns\n",
    "import pandas as pd\n",
    "import math"
   ]
  },
  {
   "cell_type": "code",
   "execution_count": 2,
   "metadata": {},
   "outputs": [],
   "source": [
    "sns.set(style=\"whitegrid\", color_codes=True)\n",
    "plt.style.use('fivethirtyeight')"
   ]
  },
  {
   "cell_type": "code",
   "execution_count": 3,
   "metadata": {},
   "outputs": [],
   "source": [
    "df = pd.read_csv(\"Traffic_Counts_2012-2013.csv\")"
   ]
  },
  {
   "cell_type": "code",
   "execution_count": 4,
   "metadata": {},
   "outputs": [
    {
     "data": {
      "text/html": [
       "<div>\n",
       "<style scoped>\n",
       "    .dataframe tbody tr th:only-of-type {\n",
       "        vertical-align: middle;\n",
       "    }\n",
       "\n",
       "    .dataframe tbody tr th {\n",
       "        vertical-align: top;\n",
       "    }\n",
       "\n",
       "    .dataframe thead th {\n",
       "        text-align: right;\n",
       "    }\n",
       "</style>\n",
       "<table border=\"1\" class=\"dataframe\">\n",
       "  <thead>\n",
       "    <tr style=\"text-align: right;\">\n",
       "      <th></th>\n",
       "      <th>ID</th>\n",
       "      <th>Segment ID</th>\n",
       "      <th>Roadway Name</th>\n",
       "      <th>From</th>\n",
       "      <th>To</th>\n",
       "      <th>Direction</th>\n",
       "      <th>Date</th>\n",
       "      <th>12:00-1:00 AM</th>\n",
       "      <th>1:00-2:00AM</th>\n",
       "      <th>2:00-3:00AM</th>\n",
       "      <th>...</th>\n",
       "      <th>2:00-3:00PM</th>\n",
       "      <th>3:00-4:00PM</th>\n",
       "      <th>4:00-5:00PM</th>\n",
       "      <th>5:00-6:00PM</th>\n",
       "      <th>6:00-7:00PM</th>\n",
       "      <th>7:00-8:00PM</th>\n",
       "      <th>8:00-9:00PM</th>\n",
       "      <th>9:00-10:00PM</th>\n",
       "      <th>10:00-11:00PM</th>\n",
       "      <th>11:00-12:00AM</th>\n",
       "    </tr>\n",
       "  </thead>\n",
       "  <tbody>\n",
       "    <tr>\n",
       "      <th>0</th>\n",
       "      <td>1</td>\n",
       "      <td>2153</td>\n",
       "      <td>HUGUENOT AVE</td>\n",
       "      <td>WOODROW RD</td>\n",
       "      <td>STAFFORD AVE</td>\n",
       "      <td>NB</td>\n",
       "      <td>02/02/2013</td>\n",
       "      <td>106</td>\n",
       "      <td>74</td>\n",
       "      <td>45.0</td>\n",
       "      <td>...</td>\n",
       "      <td>371</td>\n",
       "      <td>398</td>\n",
       "      <td>324</td>\n",
       "      <td>394</td>\n",
       "      <td>379</td>\n",
       "      <td>329</td>\n",
       "      <td>249</td>\n",
       "      <td>197</td>\n",
       "      <td>187</td>\n",
       "      <td>169</td>\n",
       "    </tr>\n",
       "    <tr>\n",
       "      <th>1</th>\n",
       "      <td>1</td>\n",
       "      <td>2153</td>\n",
       "      <td>HUGUENOT AVE</td>\n",
       "      <td>WOODROW RD</td>\n",
       "      <td>STAFFORD AVE</td>\n",
       "      <td>NB</td>\n",
       "      <td>02/03/2013</td>\n",
       "      <td>109</td>\n",
       "      <td>74</td>\n",
       "      <td>55.0</td>\n",
       "      <td>...</td>\n",
       "      <td>308</td>\n",
       "      <td>291</td>\n",
       "      <td>313</td>\n",
       "      <td>253</td>\n",
       "      <td>242</td>\n",
       "      <td>217</td>\n",
       "      <td>210</td>\n",
       "      <td>144</td>\n",
       "      <td>125</td>\n",
       "      <td>79</td>\n",
       "    </tr>\n",
       "    <tr>\n",
       "      <th>2</th>\n",
       "      <td>1</td>\n",
       "      <td>2153</td>\n",
       "      <td>HUGUENOT AVE</td>\n",
       "      <td>WOODROW RD</td>\n",
       "      <td>STAFFORD AVE</td>\n",
       "      <td>NB</td>\n",
       "      <td>02/04/2013</td>\n",
       "      <td>36</td>\n",
       "      <td>28</td>\n",
       "      <td>11.0</td>\n",
       "      <td>...</td>\n",
       "      <td>426</td>\n",
       "      <td>425</td>\n",
       "      <td>419</td>\n",
       "      <td>469</td>\n",
       "      <td>425</td>\n",
       "      <td>358</td>\n",
       "      <td>224</td>\n",
       "      <td>185</td>\n",
       "      <td>132</td>\n",
       "      <td>74</td>\n",
       "    </tr>\n",
       "    <tr>\n",
       "      <th>3</th>\n",
       "      <td>1</td>\n",
       "      <td>2153</td>\n",
       "      <td>HUGUENOT AVE</td>\n",
       "      <td>WOODROW RD</td>\n",
       "      <td>STAFFORD AVE</td>\n",
       "      <td>NB</td>\n",
       "      <td>02/05/2013</td>\n",
       "      <td>42</td>\n",
       "      <td>28</td>\n",
       "      <td>16.0</td>\n",
       "      <td>...</td>\n",
       "      <td>393</td>\n",
       "      <td>479</td>\n",
       "      <td>441</td>\n",
       "      <td>476</td>\n",
       "      <td>446</td>\n",
       "      <td>424</td>\n",
       "      <td>305</td>\n",
       "      <td>219</td>\n",
       "      <td>171</td>\n",
       "      <td>76</td>\n",
       "    </tr>\n",
       "    <tr>\n",
       "      <th>4</th>\n",
       "      <td>1</td>\n",
       "      <td>2153</td>\n",
       "      <td>HUGUENOT AVE</td>\n",
       "      <td>WOODROW RD</td>\n",
       "      <td>STAFFORD AVE</td>\n",
       "      <td>NB</td>\n",
       "      <td>02/06/2013</td>\n",
       "      <td>35</td>\n",
       "      <td>38</td>\n",
       "      <td>12.0</td>\n",
       "      <td>...</td>\n",
       "      <td>383</td>\n",
       "      <td>384</td>\n",
       "      <td>391</td>\n",
       "      <td>369</td>\n",
       "      <td>401</td>\n",
       "      <td>338</td>\n",
       "      <td>236</td>\n",
       "      <td>186</td>\n",
       "      <td>123</td>\n",
       "      <td>76</td>\n",
       "    </tr>\n",
       "  </tbody>\n",
       "</table>\n",
       "<p>5 rows × 31 columns</p>\n",
       "</div>"
      ],
      "text/plain": [
       "   ID  Segment ID  Roadway Name        From            To Direction  \\\n",
       "0   1        2153  HUGUENOT AVE  WOODROW RD  STAFFORD AVE        NB   \n",
       "1   1        2153  HUGUENOT AVE  WOODROW RD  STAFFORD AVE        NB   \n",
       "2   1        2153  HUGUENOT AVE  WOODROW RD  STAFFORD AVE        NB   \n",
       "3   1        2153  HUGUENOT AVE  WOODROW RD  STAFFORD AVE        NB   \n",
       "4   1        2153  HUGUENOT AVE  WOODROW RD  STAFFORD AVE        NB   \n",
       "\n",
       "         Date  12:00-1:00 AM  1:00-2:00AM  2:00-3:00AM      ...        \\\n",
       "0  02/02/2013            106           74         45.0      ...         \n",
       "1  02/03/2013            109           74         55.0      ...         \n",
       "2  02/04/2013             36           28         11.0      ...         \n",
       "3  02/05/2013             42           28         16.0      ...         \n",
       "4  02/06/2013             35           38         12.0      ...         \n",
       "\n",
       "   2:00-3:00PM  3:00-4:00PM  4:00-5:00PM  5:00-6:00PM  6:00-7:00PM  \\\n",
       "0          371          398          324          394          379   \n",
       "1          308          291          313          253          242   \n",
       "2          426          425          419          469          425   \n",
       "3          393          479          441          476          446   \n",
       "4          383          384          391          369          401   \n",
       "\n",
       "   7:00-8:00PM  8:00-9:00PM  9:00-10:00PM  10:00-11:00PM  11:00-12:00AM  \n",
       "0          329          249           197            187            169  \n",
       "1          217          210           144            125             79  \n",
       "2          358          224           185            132             74  \n",
       "3          424          305           219            171             76  \n",
       "4          338          236           186            123             76  \n",
       "\n",
       "[5 rows x 31 columns]"
      ]
     },
     "execution_count": 4,
     "metadata": {},
     "output_type": "execute_result"
    }
   ],
   "source": [
    "df.head()"
   ]
  },
  {
   "cell_type": "code",
   "execution_count": 5,
   "metadata": {},
   "outputs": [
    {
     "data": {
      "text/plain": [
       "Index(['ID', 'Segment ID', 'Roadway Name', 'From', 'To', 'Direction', 'Date',\n",
       "       '12:00-1:00 AM', '1:00-2:00AM', '2:00-3:00AM', '3:00-4:00AM',\n",
       "       '4:00-5:00AM', '5:00-6:00AM', '6:00-7:00AM', '7:00-8:00AM',\n",
       "       '8:00-9:00AM', '9:00-10:00AM', '10:00-11:00AM', '11:00-12:00PM',\n",
       "       '12:00-1:00PM', '1:00-2:00PM', '2:00-3:00PM', '3:00-4:00PM',\n",
       "       '4:00-5:00PM', '5:00-6:00PM', '6:00-7:00PM', '7:00-8:00PM',\n",
       "       '8:00-9:00PM', '9:00-10:00PM', '10:00-11:00PM', '11:00-12:00AM'],\n",
       "      dtype='object')"
      ]
     },
     "execution_count": 5,
     "metadata": {},
     "output_type": "execute_result"
    }
   ],
   "source": [
    "df.columns"
   ]
  },
  {
   "cell_type": "markdown",
   "metadata": {},
   "source": [
    "###### TO CONVERT THE DATATYPES INTO INT32 FROM FLOAT64:"
   ]
  },
  {
   "cell_type": "code",
   "execution_count": 6,
   "metadata": {},
   "outputs": [],
   "source": [
    "li = ['12:00-1:00 AM','1:00-2:00AM', '2:00-3:00AM','3:00-4:00AM', '4:00-5:00AM','5:00-6:00AM', '6:00-7:00AM','7:00-8:00AM',\n",
    "      '8:00-9:00AM','9:00-10:00AM','10:00-11:00AM','11:00-12:00PM','12:00-1:00PM', '1:00-2:00PM', '2:00-3:00PM', '3:00-4:00PM',\n",
    "      '4:00-5:00PM', '5:00-6:00PM','6:00-7:00PM','7:00-8:00PM','8:00-9:00PM', '9:00-10:00PM', '10:00-11:00PM', '11:00-12:00AM']"
   ]
  },
  {
   "cell_type": "code",
   "execution_count": 9,
   "metadata": {},
   "outputs": [],
   "source": [
    "df[li] = df[li].astype(int)"
   ]
  },
  {
   "cell_type": "code",
   "execution_count": 10,
   "metadata": {},
   "outputs": [
    {
     "data": {
      "text/plain": [
       "ID                int64\n",
       "Segment ID        int64\n",
       "Roadway Name     object\n",
       "From             object\n",
       "To               object\n",
       "Direction        object\n",
       "Date             object\n",
       "12:00-1:00 AM     int32\n",
       "1:00-2:00AM       int32\n",
       "2:00-3:00AM       int32\n",
       "3:00-4:00AM       int32\n",
       "4:00-5:00AM       int32\n",
       "5:00-6:00AM       int32\n",
       "6:00-7:00AM       int32\n",
       "7:00-8:00AM       int32\n",
       "8:00-9:00AM       int32\n",
       "9:00-10:00AM      int32\n",
       "10:00-11:00AM     int32\n",
       "11:00-12:00PM     int32\n",
       "12:00-1:00PM      int32\n",
       "1:00-2:00PM       int32\n",
       "2:00-3:00PM       int32\n",
       "3:00-4:00PM       int32\n",
       "4:00-5:00PM       int32\n",
       "5:00-6:00PM       int32\n",
       "6:00-7:00PM       int32\n",
       "7:00-8:00PM       int32\n",
       "8:00-9:00PM       int32\n",
       "9:00-10:00PM      int32\n",
       "10:00-11:00PM     int32\n",
       "11:00-12:00AM     int32\n",
       "dtype: object"
      ]
     },
     "execution_count": 10,
     "metadata": {},
     "output_type": "execute_result"
    }
   ],
   "source": [
    "df.dtypes"
   ]
  },
  {
   "cell_type": "code",
   "execution_count": null,
   "metadata": {},
   "outputs": [],
   "source": [
    "# def to_Integer(x):\n",
    "#     for index, rows in df[x].iteritems():\n",
    "#         if(not(np.isnan(df[x].loc[index]))):\n",
    "#             df[x].loc[index] = int(df[x].loc[index])\n",
    "\n",
    "# for i in li:\n",
    "#     to_Integer(i)"
   ]
  },
  {
   "cell_type": "markdown",
   "metadata": {},
   "source": [
    "###### TO REPLACE THE NaN, ZERO VALUES WITH MEAN OF THE STREET TRAFFIC AT THAT TIME INTERVAL:"
   ]
  },
  {
   "cell_type": "code",
   "execution_count": 12,
   "metadata": {},
   "outputs": [],
   "source": [
    "def replace_NaN_Zero(x, i, index2):\n",
    "    sum = 0;\n",
    "    ctr = 0;\n",
    "    for index, rows in df[i].iteritems():\n",
    "        if(df['Roadway Name'].loc[index]==x and not(np.isnan(df[i].loc[index])) and df[i].loc[index]!=0):\n",
    "            sum = sum + df[i].loc[index]\n",
    "            ctr = ctr+1;\n",
    "    try:\n",
    "        df[i].loc[index2] = int(math.ceil((sum/ctr)))\n",
    "    except:\n",
    "        print(\"Exception : \", x)"
   ]
  },
  {
   "cell_type": "code",
   "execution_count": 13,
   "metadata": {},
   "outputs": [
    {
     "name": "stderr",
     "output_type": "stream",
     "text": [
      "C:\\Users\\B S KUMARASWAMY\\Anaconda3\\lib\\site-packages\\pandas\\core\\indexing.py:194: SettingWithCopyWarning: \n",
      "A value is trying to be set on a copy of a slice from a DataFrame\n",
      "\n",
      "See the caveats in the documentation: http://pandas.pydata.org/pandas-docs/stable/indexing.html#indexing-view-versus-copy\n",
      "  self._setitem_with_indexer(indexer, value)\n"
     ]
    }
   ],
   "source": [
    "li = ['12:00-1:00 AM','1:00-2:00AM', '2:00-3:00AM','3:00-4:00AM', '4:00-5:00AM','5:00-6:00AM', '6:00-7:00AM','7:00-8:00AM',\n",
    "      '8:00-9:00AM','9:00-10:00AM','10:00-11:00AM','11:00-12:00PM','12:00-1:00PM', '1:00-2:00PM', '2:00-3:00PM', '3:00-4:00PM',\n",
    "      '4:00-5:00PM', '5:00-6:00PM','6:00-7:00PM','7:00-8:00PM','8:00-9:00PM', '9:00-10:00PM', '10:00-11:00PM', '11:00-12:00AM']\n",
    "for i in li:\n",
    "    for index, rows in df[i].iteritems():\n",
    "        if(np.isnan(df[i].loc[index]) or df[i].loc[index]==0):\n",
    "            replace_NaN_Zero(df['Roadway Name'].loc[index], i, index)"
   ]
  },
  {
   "cell_type": "markdown",
   "metadata": {},
   "source": [
    "##### To write to a file in csv format"
   ]
  },
  {
   "cell_type": "code",
   "execution_count": 14,
   "metadata": {},
   "outputs": [],
   "source": [
    "df.to_csv(\"Data_cleaned_2012.csv\")"
   ]
  }
 ],
 "metadata": {
  "kernelspec": {
   "display_name": "Python 3",
   "language": "python",
   "name": "python3"
  },
  "language_info": {
   "codemirror_mode": {
    "name": "ipython",
    "version": 3
   },
   "file_extension": ".py",
   "mimetype": "text/x-python",
   "name": "python",
   "nbconvert_exporter": "python",
   "pygments_lexer": "ipython3",
   "version": "3.7.3"
  }
 },
 "nbformat": 4,
 "nbformat_minor": 2
}
