{
 "cells": [
  {
   "cell_type": "raw",
   "metadata": {},
   "source": [
    "Data Cleaning : \n",
    "1. Identify the np.NaN values, zero.\n",
    "2. Find the Roadway, time interval.\n",
    "3. Find the mean of those columns.\n",
    "4. Why columns mean and not row mean?\n",
    "5. Replace the NaN values."
   ]
  },
  {
   "cell_type": "markdown",
   "metadata": {},
   "source": [
    "##### IMPORT PACKAGES, ASSIGN DATAFRAME"
   ]
  },
  {
   "cell_type": "code",
   "execution_count": 1,
   "metadata": {},
   "outputs": [],
   "source": [
    "%matplotlib inline\n",
    "import numpy as np\n",
    "import matplotlib.pyplot as plt\n",
    "import seaborn as sns\n",
    "import pandas as pd\n",
    "import math"
   ]
  },
  {
   "cell_type": "code",
   "execution_count": 2,
   "metadata": {},
   "outputs": [],
   "source": [
    "sns.set(style=\"whitegrid\", color_codes=True)\n",
    "plt.style.use('fivethirtyeight')"
   ]
  },
  {
   "cell_type": "code",
   "execution_count": 3,
   "metadata": {},
   "outputs": [],
   "source": [
    "df = pd.read_csv(\"Traffic_Counts_2011-2012.csv\")"
   ]
  },
  {
   "cell_type": "code",
   "execution_count": 4,
   "metadata": {},
   "outputs": [
    {
     "data": {
      "text/html": [
       "<div>\n",
       "<style scoped>\n",
       "    .dataframe tbody tr th:only-of-type {\n",
       "        vertical-align: middle;\n",
       "    }\n",
       "\n",
       "    .dataframe tbody tr th {\n",
       "        vertical-align: top;\n",
       "    }\n",
       "\n",
       "    .dataframe thead th {\n",
       "        text-align: right;\n",
       "    }\n",
       "</style>\n",
       "<table border=\"1\" class=\"dataframe\">\n",
       "  <thead>\n",
       "    <tr style=\"text-align: right;\">\n",
       "      <th></th>\n",
       "      <th>ID</th>\n",
       "      <th>GIS ID</th>\n",
       "      <th>Roadway Name</th>\n",
       "      <th>From</th>\n",
       "      <th>To</th>\n",
       "      <th>Direction</th>\n",
       "      <th>Date</th>\n",
       "      <th>12:00-1:00 AM</th>\n",
       "      <th>1:00-2:00AM</th>\n",
       "      <th>2:00-3:00AM</th>\n",
       "      <th>...</th>\n",
       "      <th>2:00-3:00PM</th>\n",
       "      <th>3:00-4:00PM</th>\n",
       "      <th>4:00-5:00PM</th>\n",
       "      <th>5:00-6:00PM</th>\n",
       "      <th>6:00-7:00PM</th>\n",
       "      <th>7:00-8:00PM</th>\n",
       "      <th>8:00-9:00PM</th>\n",
       "      <th>9:00-10:00PM</th>\n",
       "      <th>10:00-11:00PM</th>\n",
       "      <th>11:00-12:00AM</th>\n",
       "    </tr>\n",
       "  </thead>\n",
       "  <tbody>\n",
       "    <tr>\n",
       "      <th>0</th>\n",
       "      <td>1</td>\n",
       "      <td>15540</td>\n",
       "      <td>BEACH STREET</td>\n",
       "      <td>UNION PLACE</td>\n",
       "      <td>VAN DUZER STREET</td>\n",
       "      <td>NB</td>\n",
       "      <td>01/09/2012</td>\n",
       "      <td>20</td>\n",
       "      <td>10</td>\n",
       "      <td>11</td>\n",
       "      <td>...</td>\n",
       "      <td>104.0</td>\n",
       "      <td>105.0</td>\n",
       "      <td>147.0</td>\n",
       "      <td>120.0</td>\n",
       "      <td>91.0</td>\n",
       "      <td>83.0</td>\n",
       "      <td>74.0</td>\n",
       "      <td>49.0</td>\n",
       "      <td>42.0</td>\n",
       "      <td>42.0</td>\n",
       "    </tr>\n",
       "    <tr>\n",
       "      <th>1</th>\n",
       "      <td>2</td>\n",
       "      <td>15540</td>\n",
       "      <td>BEACH STREET</td>\n",
       "      <td>UNION PLACE</td>\n",
       "      <td>VAN DUZER STREET</td>\n",
       "      <td>NB</td>\n",
       "      <td>01/10/2012</td>\n",
       "      <td>21</td>\n",
       "      <td>16</td>\n",
       "      <td>8</td>\n",
       "      <td>...</td>\n",
       "      <td>102.0</td>\n",
       "      <td>98.0</td>\n",
       "      <td>133.0</td>\n",
       "      <td>131.0</td>\n",
       "      <td>95.0</td>\n",
       "      <td>73.0</td>\n",
       "      <td>70.0</td>\n",
       "      <td>63.0</td>\n",
       "      <td>42.0</td>\n",
       "      <td>35.0</td>\n",
       "    </tr>\n",
       "    <tr>\n",
       "      <th>2</th>\n",
       "      <td>3</td>\n",
       "      <td>15540</td>\n",
       "      <td>BEACH STREET</td>\n",
       "      <td>UNION PLACE</td>\n",
       "      <td>VAN DUZER STREET</td>\n",
       "      <td>NB</td>\n",
       "      <td>01/11/2012</td>\n",
       "      <td>27</td>\n",
       "      <td>14</td>\n",
       "      <td>6</td>\n",
       "      <td>...</td>\n",
       "      <td>115.0</td>\n",
       "      <td>115.0</td>\n",
       "      <td>130.0</td>\n",
       "      <td>143.0</td>\n",
       "      <td>106.0</td>\n",
       "      <td>89.0</td>\n",
       "      <td>68.0</td>\n",
       "      <td>64.0</td>\n",
       "      <td>56.0</td>\n",
       "      <td>43.0</td>\n",
       "    </tr>\n",
       "    <tr>\n",
       "      <th>3</th>\n",
       "      <td>4</td>\n",
       "      <td>15540</td>\n",
       "      <td>BEACH STREET</td>\n",
       "      <td>UNION PLACE</td>\n",
       "      <td>VAN DUZER STREET</td>\n",
       "      <td>NB</td>\n",
       "      <td>01/12/2012</td>\n",
       "      <td>22</td>\n",
       "      <td>7</td>\n",
       "      <td>7</td>\n",
       "      <td>...</td>\n",
       "      <td>71.0</td>\n",
       "      <td>127.0</td>\n",
       "      <td>122.0</td>\n",
       "      <td>144.0</td>\n",
       "      <td>122.0</td>\n",
       "      <td>76.0</td>\n",
       "      <td>64.0</td>\n",
       "      <td>58.0</td>\n",
       "      <td>64.0</td>\n",
       "      <td>43.0</td>\n",
       "    </tr>\n",
       "    <tr>\n",
       "      <th>4</th>\n",
       "      <td>5</td>\n",
       "      <td>15540</td>\n",
       "      <td>BEACH STREET</td>\n",
       "      <td>UNION PLACE</td>\n",
       "      <td>VAN DUZER STREET</td>\n",
       "      <td>NB</td>\n",
       "      <td>01/13/2012</td>\n",
       "      <td>31</td>\n",
       "      <td>17</td>\n",
       "      <td>7</td>\n",
       "      <td>...</td>\n",
       "      <td>113.0</td>\n",
       "      <td>126.0</td>\n",
       "      <td>133.0</td>\n",
       "      <td>135.0</td>\n",
       "      <td>102.0</td>\n",
       "      <td>106.0</td>\n",
       "      <td>58.0</td>\n",
       "      <td>58.0</td>\n",
       "      <td>55.0</td>\n",
       "      <td>54.0</td>\n",
       "    </tr>\n",
       "  </tbody>\n",
       "</table>\n",
       "<p>5 rows × 31 columns</p>\n",
       "</div>"
      ],
      "text/plain": [
       "   ID  GIS ID  Roadway Name         From                To Direction  \\\n",
       "0   1   15540  BEACH STREET  UNION PLACE  VAN DUZER STREET        NB   \n",
       "1   2   15540  BEACH STREET  UNION PLACE  VAN DUZER STREET        NB   \n",
       "2   3   15540  BEACH STREET  UNION PLACE  VAN DUZER STREET        NB   \n",
       "3   4   15540  BEACH STREET  UNION PLACE  VAN DUZER STREET        NB   \n",
       "4   5   15540  BEACH STREET  UNION PLACE  VAN DUZER STREET        NB   \n",
       "\n",
       "         Date  12:00-1:00 AM  1:00-2:00AM  2:00-3:00AM      ...        \\\n",
       "0  01/09/2012             20           10           11      ...         \n",
       "1  01/10/2012             21           16            8      ...         \n",
       "2  01/11/2012             27           14            6      ...         \n",
       "3  01/12/2012             22            7            7      ...         \n",
       "4  01/13/2012             31           17            7      ...         \n",
       "\n",
       "   2:00-3:00PM  3:00-4:00PM  4:00-5:00PM  5:00-6:00PM  6:00-7:00PM  \\\n",
       "0        104.0        105.0        147.0        120.0         91.0   \n",
       "1        102.0         98.0        133.0        131.0         95.0   \n",
       "2        115.0        115.0        130.0        143.0        106.0   \n",
       "3         71.0        127.0        122.0        144.0        122.0   \n",
       "4        113.0        126.0        133.0        135.0        102.0   \n",
       "\n",
       "   7:00-8:00PM  8:00-9:00PM  9:00-10:00PM  10:00-11:00PM  11:00-12:00AM  \n",
       "0         83.0         74.0          49.0           42.0           42.0  \n",
       "1         73.0         70.0          63.0           42.0           35.0  \n",
       "2         89.0         68.0          64.0           56.0           43.0  \n",
       "3         76.0         64.0          58.0           64.0           43.0  \n",
       "4        106.0         58.0          58.0           55.0           54.0  \n",
       "\n",
       "[5 rows x 31 columns]"
      ]
     },
     "execution_count": 4,
     "metadata": {},
     "output_type": "execute_result"
    }
   ],
   "source": [
    "df.head()"
   ]
  },
  {
   "cell_type": "code",
   "execution_count": 5,
   "metadata": {},
   "outputs": [
    {
     "data": {
      "text/plain": [
       "Index(['ID', 'GIS ID', 'Roadway Name', 'From', 'To', 'Direction', 'Date',\n",
       "       '12:00-1:00 AM', '1:00-2:00AM', '2:00-3:00AM', '3:00-4:00AM',\n",
       "       '4:00-5:00AM', '5:00-6:00AM', '6:00-7:00AM', '7:00-8:00AM',\n",
       "       '8:00-9:00AM', '9:00-10:00AM', '10:00-11:00AM', '11:00-12:00PM',\n",
       "       '12:00-1:00PM', '1:00-2:00PM', '2:00-3:00PM', '3:00-4:00PM',\n",
       "       '4:00-5:00PM', '5:00-6:00PM', '6:00-7:00PM', '7:00-8:00PM',\n",
       "       '8:00-9:00PM', '9:00-10:00PM', '10:00-11:00PM', '11:00-12:00AM'],\n",
       "      dtype='object')"
      ]
     },
     "execution_count": 5,
     "metadata": {},
     "output_type": "execute_result"
    }
   ],
   "source": [
    "df.columns"
   ]
  },
  {
   "cell_type": "markdown",
   "metadata": {},
   "source": [
    "###### TO REPLACE THE NaN, ZERO VALUES WITH MEAN OF THE STREET TRAFFIC AT THAT TIME INTERVAL:"
   ]
  },
  {
   "cell_type": "code",
   "execution_count": 6,
   "metadata": {},
   "outputs": [],
   "source": [
    "def replace_NaN_Zero(x, i, index2):\n",
    "    sum = 0;\n",
    "    ctr = 0;\n",
    "    for index, rows in df[i].iteritems():\n",
    "        if(df['GIS ID'].loc[index]==x and not(np.isnan(df[i].loc[index])) and df[i].loc[index]!=0):\n",
    "            sum = sum + df[i].loc[index]\n",
    "            ctr = ctr+1;\n",
    "    try:\n",
    "        df[i].loc[index2] = int(math.ceil((sum/ctr)))\n",
    "    except:\n",
    "        print(\"Exception : \", x)"
   ]
  },
  {
   "cell_type": "code",
   "execution_count": 7,
   "metadata": {},
   "outputs": [
    {
     "name": "stderr",
     "output_type": "stream",
     "text": [
      "C:\\Users\\B S KUMARASWAMY\\Anaconda3\\lib\\site-packages\\pandas\\core\\indexing.py:194: SettingWithCopyWarning: \n",
      "A value is trying to be set on a copy of a slice from a DataFrame\n",
      "\n",
      "See the caveats in the documentation: http://pandas.pydata.org/pandas-docs/stable/indexing.html#indexing-view-versus-copy\n",
      "  self._setitem_with_indexer(indexer, value)\n"
     ]
    },
    {
     "name": "stdout",
     "output_type": "stream",
     "text": [
      "Exception :  41761\n",
      "Exception :  41761\n",
      "Exception :  41761\n",
      "Exception :  41761\n",
      "Exception :  41761\n",
      "Exception :  41761\n",
      "Exception :  41761\n",
      "Exception :  41761\n",
      "Exception :  41761\n",
      "Exception :  41761\n",
      "Exception :  41761\n",
      "Exception :  41761\n",
      "Exception :  41761\n",
      "Exception :  41761\n",
      "Exception :  41761\n",
      "Exception :  41761\n",
      "Exception :  41761\n",
      "Exception :  41761\n",
      "Exception :  41761\n",
      "Exception :  41761\n",
      "Exception :  1886\n",
      "Exception :  1886\n",
      "Exception :  41761\n",
      "Exception :  41761\n",
      "Exception :  1886\n",
      "Exception :  1886\n",
      "Exception :  41761\n",
      "Exception :  41761\n",
      "Exception :  1886\n",
      "Exception :  1886\n",
      "Exception :  41761\n",
      "Exception :  41761\n"
     ]
    }
   ],
   "source": [
    "li = ['12:00-1:00 AM','1:00-2:00AM', '2:00-3:00AM','3:00-4:00AM', '4:00-5:00AM','5:00-6:00AM', '6:00-7:00AM','7:00-8:00AM',\n",
    "      '8:00-9:00AM','9:00-10:00AM','10:00-11:00AM','11:00-12:00PM','12:00-1:00PM', '1:00-2:00PM', '2:00-3:00PM', '3:00-4:00PM',\n",
    "      '4:00-5:00PM', '5:00-6:00PM','6:00-7:00PM','7:00-8:00PM','8:00-9:00PM', '9:00-10:00PM', '10:00-11:00PM', '11:00-12:00AM']\n",
    "for i in li:\n",
    "    for index, rows in df[i].iteritems():\n",
    "        if(np.isnan(df[i].loc[index]) or df[i].loc[index]==0):\n",
    "            replace_NaN_Zero(df['GIS ID'].loc[index], i, index)"
   ]
  },
  {
   "cell_type": "markdown",
   "metadata": {},
   "source": [
    "###### TO CONVERT THE DATATYPES INTO INT32 FROM FLOAT64:"
   ]
  },
  {
   "cell_type": "code",
   "execution_count": 8,
   "metadata": {},
   "outputs": [],
   "source": [
    "li = ['12:00-1:00 AM','1:00-2:00AM', '2:00-3:00AM','3:00-4:00AM', '4:00-5:00AM','5:00-6:00AM', '6:00-7:00AM','7:00-8:00AM',\n",
    "      '8:00-9:00AM','9:00-10:00AM','10:00-11:00AM','11:00-12:00PM','12:00-1:00PM', '1:00-2:00PM', '2:00-3:00PM', '3:00-4:00PM',\n",
    "      '4:00-5:00PM', '5:00-6:00PM','6:00-7:00PM','7:00-8:00PM','8:00-9:00PM', '9:00-10:00PM', '10:00-11:00PM', '11:00-12:00AM']"
   ]
  },
  {
   "cell_type": "code",
   "execution_count": null,
   "metadata": {},
   "outputs": [],
   "source": [
    "def to_Integer(x):\n",
    "    for index, rows in df[x].iteritems():\n",
    "        if(not(np.isnan(df[x].loc[index]))):\n",
    "            df[x].loc[index] = int(df[x].loc[index])\n",
    "            \n",
    "for i in li:\n",
    "     to_Integer(i)            "
   ]
  },
  {
   "cell_type": "code",
   "execution_count": 9,
   "metadata": {},
   "outputs": [],
   "source": [
    "df[li] = df[li].astype(int)"
   ]
  },
  {
   "cell_type": "code",
   "execution_count": 11,
   "metadata": {},
   "outputs": [],
   "source": [
    "df.to_csv(\"Data_cleaned_2011.csv\")"
   ]
  },
  {
   "cell_type": "code",
   "execution_count": null,
   "metadata": {},
   "outputs": [],
   "source": [
    "import string\n",
    "for index,row in df['Date'].iteritems():\n",
    "    df['Date'].loc[index] = df['Date'].loc[index].replace('-', '/')"
   ]
  },
  {
   "cell_type": "code",
   "execution_count": null,
   "metadata": {},
   "outputs": [],
   "source": [
    "for index, rows in df['GIS ID'].iteritems():\n",
    "        if(np.isnan(df[i].loc[index]) or df[i].loc[index]==0):\n",
    "            replace_NaN_Zero(df['GIS ID'].loc[index], i, index)"
   ]
  },
  {
   "cell_type": "code",
   "execution_count": null,
   "metadata": {},
   "outputs": [],
   "source": [
    "df.head()"
   ]
  },
  {
   "cell_type": "code",
   "execution_count": 2,
   "metadata": {},
   "outputs": [],
   "source": [
    "df = pd.read_csv(\"Data_cleaned_2011.csv\")"
   ]
  },
  {
   "cell_type": "code",
   "execution_count": 6,
   "metadata": {},
   "outputs": [],
   "source": [
    "df = df.dropna()"
   ]
  },
  {
   "cell_type": "code",
   "execution_count": 4,
   "metadata": {},
   "outputs": [],
   "source": [
    "li = ['12:00-1:00 AM','1:00-2:00AM', '2:00-3:00AM','3:00-4:00AM', '4:00-5:00AM','5:00-6:00AM', '6:00-7:00AM','7:00-8:00AM',\n",
    "      '8:00-9:00AM','9:00-10:00AM','10:00-11:00AM','11:00-12:00PM','12:00-1:00PM', '1:00-2:00PM', '2:00-3:00PM', '3:00-4:00PM',\n",
    "      '4:00-5:00PM', '5:00-6:00PM','6:00-7:00PM','7:00-8:00PM','8:00-9:00PM', '9:00-10:00PM', '10:00-11:00PM', '11:00-12:00AM']"
   ]
  },
  {
   "cell_type": "code",
   "execution_count": 12,
   "metadata": {},
   "outputs": [],
   "source": [
    "df[li] = df[li].astype(int)\n",
    "df[['ID', 'GIS ID']] = df[['ID', 'GIS ID']].astype(int)"
   ]
  },
  {
   "cell_type": "code",
   "execution_count": 13,
   "metadata": {},
   "outputs": [
    {
     "data": {
      "text/plain": [
       "Unnamed: 0       float64\n",
       "ID                 int32\n",
       "GIS ID             int32\n",
       "Roadway Name      object\n",
       "From              object\n",
       "To                object\n",
       "Direction         object\n",
       "Date              object\n",
       "12:00-1:00 AM      int32\n",
       "1:00-2:00AM        int32\n",
       "2:00-3:00AM        int32\n",
       "3:00-4:00AM        int32\n",
       "4:00-5:00AM        int32\n",
       "5:00-6:00AM        int32\n",
       "6:00-7:00AM        int32\n",
       "7:00-8:00AM        int32\n",
       "8:00-9:00AM        int32\n",
       "9:00-10:00AM       int32\n",
       "10:00-11:00AM      int32\n",
       "11:00-12:00PM      int32\n",
       "12:00-1:00PM       int32\n",
       "1:00-2:00PM        int32\n",
       "2:00-3:00PM        int32\n",
       "3:00-4:00PM        int32\n",
       "4:00-5:00PM        int32\n",
       "5:00-6:00PM        int32\n",
       "6:00-7:00PM        int32\n",
       "7:00-8:00PM        int32\n",
       "8:00-9:00PM        int32\n",
       "9:00-10:00PM       int32\n",
       "10:00-11:00PM      int32\n",
       "11:00-12:00AM      int32\n",
       "dtype: object"
      ]
     },
     "execution_count": 13,
     "metadata": {},
     "output_type": "execute_result"
    }
   ],
   "source": [
    "df.dtypes"
   ]
  },
  {
   "cell_type": "code",
   "execution_count": 14,
   "metadata": {},
   "outputs": [],
   "source": [
    "df.to_csv(\"Data_cleaned_2011.csv\")"
   ]
  },
  {
   "cell_type": "code",
   "execution_count": null,
   "metadata": {},
   "outputs": [],
   "source": []
  }
 ],
 "metadata": {
  "kernelspec": {
   "display_name": "Python 3",
   "language": "python",
   "name": "python3"
  },
  "language_info": {
   "codemirror_mode": {
    "name": "ipython",
    "version": 3
   },
   "file_extension": ".py",
   "mimetype": "text/x-python",
   "name": "python",
   "nbconvert_exporter": "python",
   "pygments_lexer": "ipython3",
   "version": "3.7.3"
  }
 },
 "nbformat": 4,
 "nbformat_minor": 2
}
