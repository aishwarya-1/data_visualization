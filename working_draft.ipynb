{
 "cells": [
  {
   "cell_type": "code",
   "execution_count": 1,
   "metadata": {},
   "outputs": [],
   "source": [
    "%matplotlib inline\n",
    "import matplotlib.pyplot as plt\n",
    "import seaborn as sns\n",
    "import numpy as np\n",
    "import math\n",
    "import pandas as pd"
   ]
  },
  {
   "cell_type": "code",
   "execution_count": 2,
   "metadata": {},
   "outputs": [],
   "source": [
    "sns.set(style=\"whitegrid\", color_codes=True)\n",
    "plt.style.use('fivethirtyeight')"
   ]
  },
  {
   "cell_type": "code",
   "execution_count": 3,
   "metadata": {},
   "outputs": [],
   "source": [
    "df = pd.read_csv(\"Traffic_Counts_2011-2012.csv\")"
   ]
  },
  {
   "cell_type": "code",
   "execution_count": 4,
   "metadata": {},
   "outputs": [
    {
     "data": {
      "text/plain": [
       "ID                 int64\n",
       "GIS ID             int64\n",
       "Roadway Name      object\n",
       "From              object\n",
       "To                object\n",
       "Direction         object\n",
       "Date              object\n",
       "12:00-1:00 AM      int64\n",
       "1:00-2:00AM        int64\n",
       "2:00-3:00AM        int64\n",
       "3:00-4:00AM        int64\n",
       "4:00-5:00AM        int64\n",
       "5:00-6:00AM        int64\n",
       "6:00-7:00AM        int64\n",
       "7:00-8:00AM        int64\n",
       "8:00-9:00AM        int64\n",
       "9:00-10:00AM       int64\n",
       "10:00-11:00AM      int64\n",
       "11:00-12:00PM      int64\n",
       "12:00-1:00PM     float64\n",
       "1:00-2:00PM      float64\n",
       "2:00-3:00PM      float64\n",
       "3:00-4:00PM      float64\n",
       "4:00-5:00PM      float64\n",
       "5:00-6:00PM      float64\n",
       "6:00-7:00PM      float64\n",
       "7:00-8:00PM      float64\n",
       "8:00-9:00PM      float64\n",
       "9:00-10:00PM     float64\n",
       "10:00-11:00PM    float64\n",
       "11:00-12:00AM    float64\n",
       "dtype: object"
      ]
     },
     "execution_count": 4,
     "metadata": {},
     "output_type": "execute_result"
    }
   ],
   "source": [
    "df.dtypes"
   ]
  },
  {
   "cell_type": "code",
   "execution_count": 7,
   "metadata": {},
   "outputs": [
    {
     "data": {
      "image/png": "[encoded data removed]",
      "text/plain": [
       "<matplotlib.figure.Figure at 0x10c6b8c5f98>"
      ]
     },
     "metadata": {},
     "output_type": "display_data"
    }
   ],
   "source": [
    "ax = sns.boxplot(x=df['12:00-1:00 AM'])\n",
    "# As you can see from the box plot, majority of the points lie beyond the whisker region. \n",
    "# This is due to difference in traffic volume on different parts of the day during the same interval of the day.\n",
    "# It would be unfair to replace/remove these outliers."
   ]
  },
  {
   "cell_type": "code",
   "execution_count": 1,
   "metadata": {},
   "outputs": [],
   "source": [
    "#Half of the columns have datatypes integer, the rest have float as the datatype. Conert the int64 values to float64 values.\n",
    "def toInteger(x):\n",
    "    for index, row in df[x].iteritems():\n",
    "        df[x].loc[index] = float(df[x].loc[index])"
   ]
  },
  {
   "cell_type": "code",
   "execution_count": 3,
   "metadata": {},
   "outputs": [
    {
     "ename": "NameError",
     "evalue": "name 'df' is not defined",
     "output_type": "error",
     "traceback": [
      "\u001b[1;31m---------------------------------------------------------------------------\u001b[0m",
      "\u001b[1;31mNameError\u001b[0m                                 Traceback (most recent call last)",
      "\u001b[1;32m<ipython-input-3-b9952e62ce13>\u001b[0m in \u001b[0;36m<module>\u001b[1;34m()\u001b[0m\n\u001b[1;32m----> 1\u001b[1;33m \u001b[0mtoInteger\u001b[0m\u001b[1;33m(\u001b[0m\u001b[1;34m'12:00-1:00 AM'\u001b[0m\u001b[1;33m)\u001b[0m\u001b[1;33m\u001b[0m\u001b[0m\n\u001b[0m\u001b[0;32m      2\u001b[0m \u001b[1;31m# Do it for the other columns as well.\u001b[0m\u001b[1;33m\u001b[0m\u001b[1;33m\u001b[0m\u001b[0m\n",
      "\u001b[1;32m<ipython-input-1-9dab804fe8bb>\u001b[0m in \u001b[0;36mtoInteger\u001b[1;34m(x)\u001b[0m\n\u001b[0;32m      1\u001b[0m \u001b[1;31m#Half of the columns have datatypes integer, the rest have float as the datatype. Conert the int64 values to float64 values.\u001b[0m\u001b[1;33m\u001b[0m\u001b[1;33m\u001b[0m\u001b[0m\n\u001b[0;32m      2\u001b[0m \u001b[1;32mdef\u001b[0m \u001b[0mtoInteger\u001b[0m\u001b[1;33m(\u001b[0m\u001b[0mx\u001b[0m\u001b[1;33m)\u001b[0m\u001b[1;33m:\u001b[0m\u001b[1;33m\u001b[0m\u001b[0m\n\u001b[1;32m----> 3\u001b[1;33m     \u001b[1;32mfor\u001b[0m \u001b[0mindex\u001b[0m\u001b[1;33m,\u001b[0m \u001b[0mrow\u001b[0m \u001b[1;32min\u001b[0m \u001b[0mdf\u001b[0m\u001b[1;33m[\u001b[0m\u001b[0mx\u001b[0m\u001b[1;33m]\u001b[0m\u001b[1;33m.\u001b[0m\u001b[0miteritems\u001b[0m\u001b[1;33m(\u001b[0m\u001b[1;33m)\u001b[0m\u001b[1;33m:\u001b[0m\u001b[1;33m\u001b[0m\u001b[0m\n\u001b[0m\u001b[0;32m      4\u001b[0m         \u001b[0mdf\u001b[0m\u001b[1;33m[\u001b[0m\u001b[0mx\u001b[0m\u001b[1;33m]\u001b[0m\u001b[1;33m.\u001b[0m\u001b[0mloc\u001b[0m\u001b[1;33m[\u001b[0m\u001b[0mindex\u001b[0m\u001b[1;33m]\u001b[0m \u001b[1;33m=\u001b[0m \u001b[0mfloat\u001b[0m\u001b[1;33m(\u001b[0m\u001b[0mdf\u001b[0m\u001b[1;33m[\u001b[0m\u001b[0mx\u001b[0m\u001b[1;33m]\u001b[0m\u001b[1;33m.\u001b[0m\u001b[0mloc\u001b[0m\u001b[1;33m[\u001b[0m\u001b[0mindex\u001b[0m\u001b[1;33m]\u001b[0m\u001b[1;33m)\u001b[0m\u001b[1;33m\u001b[0m\u001b[0m\n",
      "\u001b[1;31mNameError\u001b[0m: name 'df' is not defined"
     ]
    }
   ],
   "source": [
    "toInteger('12:00-1:00 AM')\n",
    "# Do it for the other columns as well."
   ]
  },
  {
   "cell_type": "code",
   "execution_count": null,
   "metadata": {},
   "outputs": [],
   "source": [
    "for index,row in df['12:00-1:00 AM'].iteritems():\n",
    "    print()"
   ]
  },
  {
   "cell_type": "code",
   "execution_count": null,
   "metadata": {},
   "outputs": [],
   "source": [
    "1. Peak hour of all roads, Mode of it to find the busiest hour of the city, least busiest hour.\n",
    "2. top five Busiest roads in the city outcome of 6. : Average Traffic.\n",
    "3. Variation in traffic over the two years:\n",
    "    a. Plot the overall traffc throughout the day for both the years.\n",
    "    b. Peak hour in the plots.\n",
    "4. Busiest road in 11-12 12-13. Why has it changed?\n",
    "5. **Most Traffic prone area : \n",
    "    1. Divide the city into four parts.\n",
    "    2. Locate the roadways in those halves of the city.\n",
    "    3. Add another column in the dataframe : Part of the city.\n",
    "    4. Find the mean traffic in those parts of the city.\n",
    "    5. Compare the parts of the city.**\n",
    "1. Visualizing the traffic for any five roads : \n",
    "    1. Find the hourly traffic mean for each road.\n",
    "    2. Minimum, Maximum peak of each road.\n",
    "7. Outcome of 6. To find the average hourly volume of traffic of the entire city.\n",
    "8. \n"
   ]
  },
  {
   "cell_type": "code",
   "execution_count": null,
   "metadata": {},
   "outputs": [],
   "source": [
    "1. Visualizing the traffic for any five roads : \n",
    "    1. Find the hourly traffic mean for each road.\n",
    "    2. Minimum, Maximum peak of each road.\n",
    "2.  top five Busiest roads in the city outcome of 6. : Average Traffic., WHY is it busy?\n",
    "3. Outcome of 6. To find the average hourly volume of traffic of the entire city.\n",
    "4. Peak hour of all roads, Mode of it to find the busiest hour of the city, least busiest hour. WHY?\n",
    "5. Date based analysis of the entire city in 2012  : JAN, FEB. \n",
    "6. ?????\n",
    "7. Variation in traffic over the two years:\n",
    "    a. Plot the overall traffic throughout the day for both the years.\n",
    "    b. Peak hour in the plots.\n",
    "8. Busiest road in 11-12 12-13. Why has it changed?\n",
    "9. **Most Traffic prone area : \n",
    "    1. Divide the city into four parts.\n",
    "    2. Locate the roadways in those halves of the city.\n",
    "    3. Add another column in the dataframe : Part of the city.\n",
    "    4. Find the mean traffic in those parts of the city.\n",
    "    5. Compare the parts of the city.**\n",
    "10. See if the traffic increases with increase in population of the city.    \n",
    "11. Shortest time travelling path between two roads."
   ]
  },
  {
   "cell_type": "code",
   "execution_count": null,
   "metadata": {},
   "outputs": [],
   "source": [
    "Data Cleaning:\n",
    "    1. Fill up the unavailable values.\n",
    "    2. The Date column.\n",
    "    "
   ]
  }
 ],
 "metadata": {
  "kernelspec": {
   "display_name": "Python 3",
   "language": "python",
   "name": "python3"
  },
  "language_info": {
   "codemirror_mode": {
    "name": "ipython",
    "version": 3
   },
   "file_extension": ".py",
   "mimetype": "text/x-python",
   "name": "python",
   "nbconvert_exporter": "python",
   "pygments_lexer": "ipython3",
   "version": "3.7.3"
  }
 },
 "nbformat": 4,
 "nbformat_minor": 2
}
